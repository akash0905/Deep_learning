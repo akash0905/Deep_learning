{
 "cells": [
  {
   "cell_type": "code",
   "execution_count": 1,
   "metadata": {},
   "outputs": [],
   "source": [
    "import numpy as np\n",
    "import nnfs\n",
    "from nnfs.datasets import spiral_data"
   ]
  },
  {
   "cell_type": "code",
   "execution_count": 2,
   "metadata": {},
   "outputs": [],
   "source": [
    "nnfs.init()"
   ]
  },
  {
   "cell_type": "code",
   "execution_count": 8,
   "metadata": {},
   "outputs": [
    {
     "name": "stdout",
     "output_type": "stream",
     "text": [
      "[[ 0.0000000e+00  0.0000000e+00  0.0000000e+00]\n",
      " [ 1.2344425e-04 -4.2612613e-05  8.7741073e-06]\n",
      " [ 2.5981691e-04 -1.5019374e-04  2.1353657e-05]\n",
      " [ 4.0532288e-04 -3.3390927e-04  3.8064085e-05]\n",
      " [ 5.5259373e-04 -6.4534455e-04  6.0963972e-05]\n",
      " [ 5.5582222e-04  2.4813102e-05  2.9169312e-05]\n",
      " [ 3.7192379e-04  7.8886398e-04 -1.7323548e-05]\n",
      " [ 5.8084552e-04  5.9657131e-04  3.2591595e-06]\n",
      " [ 1.0184456e-03 -4.8815410e-04  7.8904784e-05]\n",
      " [-2.3062548e-04  2.2947381e-03 -1.2206852e-04]]\n"
     ]
    }
   ],
   "source": [
    "class Layer_Dense():\n",
    "    def __init__(self,n_input,n_neurons):\n",
    "        self.weights = 0.01*np.random.randn(n_input, n_neurons)\n",
    "        self.biases = np.zeros((1,n_neurons))\n",
    "        \n",
    "    def forward(self,inputs):\n",
    "        self.output = np.dot(inputs,self.weights) + self.biases\n",
    "        \n",
    "x,y = spiral_data(samples = 100, classes=3)\n",
    "\n",
    "dense1 = Layer_Dense(2,3)\n",
    "\n",
    "dense1.forward(x)\n",
    "print(dense1.output[:10])"
   ]
  },
  {
   "cell_type": "code",
   "execution_count": null,
   "metadata": {},
   "outputs": [],
   "source": []
  }
 ],
 "metadata": {
  "kernelspec": {
   "display_name": "Python 3",
   "language": "python",
   "name": "python3"
  },
  "language_info": {
   "codemirror_mode": {
    "name": "ipython",
    "version": 3
   },
   "file_extension": ".py",
   "mimetype": "text/x-python",
   "name": "python",
   "nbconvert_exporter": "python",
   "pygments_lexer": "ipython3",
   "version": "3.8.3"
  }
 },
 "nbformat": 4,
 "nbformat_minor": 4
}
