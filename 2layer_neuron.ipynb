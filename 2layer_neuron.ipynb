{
 "cells": [
  {
   "cell_type": "code",
   "execution_count": 4,
   "metadata": {},
   "outputs": [],
   "source": [
    "import numpy as np"
   ]
  },
  {
   "cell_type": "code",
   "execution_count": 5,
   "metadata": {},
   "outputs": [],
   "source": [
    "inputs1 = [[1,2,3,2.5],[2.0,5.0,-1.0,2],[-1.5,5.7,3.3,-0.8]]\n",
    "\n",
    "weights1 = [[2.0,0.8,-0.5,1],[0.5,-0.91,0.26,-0.5],[-0.26,-0.27,0.17,0.87]]\n",
    "\n",
    "biases1 = [2,3,0.5]\n",
    "\n",
    "weights2 = [[0.1,-0.14,0.5],[-0.5,0.12,-0.33],[-0.44,0.73,-0.13]]\n",
    "\n",
    "biases2 = [-1,2,-0.5]"
   ]
  },
  {
   "cell_type": "code",
   "execution_count": 7,
   "metadata": {},
   "outputs": [],
   "source": [
    "layer1_output = np.dot(inputs1, np.array(weights1).T)+ biases1\n",
    "layer2_output = np.dot(layer1_output, np.array(weights2).T) + biases2"
   ]
  },
  {
   "cell_type": "code",
   "execution_count": 8,
   "metadata": {},
   "outputs": [
    {
     "name": "stdout",
     "output_type": "stream",
     "text": [
      "[[ 0.6831  -1.94185 -2.83075]\n",
      " [ 0.6034  -4.5332  -7.3473 ]\n",
      " [-1.04594  1.50224 -2.11215]]\n"
     ]
    }
   ],
   "source": [
    "print(layer2_output)"
   ]
  },
  {
   "cell_type": "code",
   "execution_count": null,
   "metadata": {},
   "outputs": [],
   "source": []
  }
 ],
 "metadata": {
  "kernelspec": {
   "display_name": "Python 3",
   "language": "python",
   "name": "python3"
  },
  "language_info": {
   "codemirror_mode": {
    "name": "ipython",
    "version": 3
   },
   "file_extension": ".py",
   "mimetype": "text/x-python",
   "name": "python",
   "nbconvert_exporter": "python",
   "pygments_lexer": "ipython3",
   "version": "3.8.3"
  }
 },
 "nbformat": 4,
 "nbformat_minor": 4
}
